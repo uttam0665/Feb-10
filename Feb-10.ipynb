{
 "cells": [
  {
   "cell_type": "markdown",
   "id": "29ad9606",
   "metadata": {},
   "source": [
    "Q1. Which function is used to open a file? What are the different modes of opening a file? Explain each mode\n",
    "of file opening.\n",
    "\n",
    "ans:= The fopen() function is used to create a file or open an existing file: fp = fopen(const char filename,const char mode)\n",
    "     \n",
    "    r - open a file in read mode.\n",
    "w - opens or create a text file in write mode.\n",
    "a - opens a file in append mode.\n",
    "r+ - opens a file in both read and write mode.\n",
    "a+ - opens a file in both read and write mode.\n",
    "w+ - opens a file in both read and write mode.\n",
    "\n",
    "\n",
    "r - open a file in read mode. w - opens or create a text file in write mode. a - opens a file in append mode. r+ - opens a file in both read and write mode.\n"
   ]
  },
  {
   "cell_type": "markdown",
   "id": "afe3654c",
   "metadata": {},
   "source": [
    "Q2. Why close() function is used? Why is it important to close a file?\n",
    "\n",
    "\n",
    "ans=\n",
    "The close() function shall deallocate the file descriptor indicated by fildes.\n",
    "To deallocate means to make the file descriptor available for return by subsequent calls to open() or other functions that allocate file descriptors.\n",
    "\n",
    "Because files are limited resources managed by the operating system, making sure files are closed after use will protect against hard-to-debug issues like running out of file handles or experiencing corrupted data.\n",
    "The best defense is always to open files with a context manager."
   ]
  },
  {
   "cell_type": "code",
   "execution_count": 2,
   "id": "d296e11f",
   "metadata": {},
   "outputs": [
    {
     "name": "stdout",
     "output_type": "stream",
     "text": [
      "I want to become a Data Scientist\n"
     ]
    }
   ],
   "source": [
    "'''Q3. Write a python program to create a text file. Write ‘I want to become a Data Scientist’ in that file. Then\n",
    "close the file. Open this file and read the content of the file.'''\n",
    "\n",
    "\n",
    "file_name = \"my_file.txt\"\n",
    "with open(file_name,\"w\") as f:\n",
    "    f.write(\"I want to become a Data Scientist\")\n",
    "\n",
    "with open(file_name,\"r\") as r:\n",
    "    sentence = r.read()\n",
    "\n",
    "print(sentence)"
   ]
  },
  {
   "cell_type": "code",
   "execution_count": 9,
   "id": "75e14e4e",
   "metadata": {},
   "outputs": [
    {
     "name": "stdout",
     "output_type": "stream",
     "text": [
      "I want to become a Data Scientist\n",
      "I want to become a Data Scientist\n",
      "\n"
     ]
    },
    {
     "ename": "FileNotFoundError",
     "evalue": "[Errno 2] No such file or directory: 'file.txt'",
     "output_type": "error",
     "traceback": [
      "\u001b[1;31m---------------------------------------------------------------------------\u001b[0m",
      "\u001b[1;31mFileNotFoundError\u001b[0m                         Traceback (most recent call last)",
      "Cell \u001b[1;32mIn[9], line 14\u001b[0m\n\u001b[0;32m     11\u001b[0m     \u001b[39mprint\u001b[39m(line1)\n\u001b[0;32m     12\u001b[0m     \u001b[39mprint\u001b[39m(line2)\n\u001b[1;32m---> 14\u001b[0m \u001b[39mwith\u001b[39;00m \u001b[39mopen\u001b[39;49m(\u001b[39m\"\u001b[39;49m\u001b[39mfile.txt\u001b[39;49m\u001b[39m\"\u001b[39;49m, \u001b[39m\"\u001b[39;49m\u001b[39mr\u001b[39;49m\u001b[39m\"\u001b[39;49m) \u001b[39mas\u001b[39;00m file:\n\u001b[0;32m     15\u001b[0m     lines \u001b[39m=\u001b[39m file\u001b[39m.\u001b[39mreadlines()\n\u001b[0;32m     16\u001b[0m     \u001b[39mfor\u001b[39;00m line \u001b[39min\u001b[39;00m lines:\n",
      "File \u001b[1;32m~\\AppData\\Local\\Packages\\PythonSoftwareFoundation.Python.3.10_qbz5n2kfra8p0\\LocalCache\\local-packages\\Python310\\site-packages\\IPython\\core\\interactiveshell.py:282\u001b[0m, in \u001b[0;36m_modified_open\u001b[1;34m(file, *args, **kwargs)\u001b[0m\n\u001b[0;32m    275\u001b[0m \u001b[39mif\u001b[39;00m file \u001b[39min\u001b[39;00m {\u001b[39m0\u001b[39m, \u001b[39m1\u001b[39m, \u001b[39m2\u001b[39m}:\n\u001b[0;32m    276\u001b[0m     \u001b[39mraise\u001b[39;00m \u001b[39mValueError\u001b[39;00m(\n\u001b[0;32m    277\u001b[0m         \u001b[39mf\u001b[39m\u001b[39m\"\u001b[39m\u001b[39mIPython won\u001b[39m\u001b[39m'\u001b[39m\u001b[39mt let you open fd=\u001b[39m\u001b[39m{\u001b[39;00mfile\u001b[39m}\u001b[39;00m\u001b[39m by default \u001b[39m\u001b[39m\"\u001b[39m\n\u001b[0;32m    278\u001b[0m         \u001b[39m\"\u001b[39m\u001b[39mas it is likely to crash IPython. If you know what you are doing, \u001b[39m\u001b[39m\"\u001b[39m\n\u001b[0;32m    279\u001b[0m         \u001b[39m\"\u001b[39m\u001b[39myou can use builtins\u001b[39m\u001b[39m'\u001b[39m\u001b[39m open.\u001b[39m\u001b[39m\"\u001b[39m\n\u001b[0;32m    280\u001b[0m     )\n\u001b[1;32m--> 282\u001b[0m \u001b[39mreturn\u001b[39;00m io_open(file, \u001b[39m*\u001b[39margs, \u001b[39m*\u001b[39m\u001b[39m*\u001b[39mkwargs)\n",
      "\u001b[1;31mFileNotFoundError\u001b[0m: [Errno 2] No such file or directory: 'file.txt'"
     ]
    }
   ],
   "source": [
    "'''Q4. Explain the following with python code: read(), readline() and readlines().'''\n",
    "    \n",
    "with open(\"my_file.txt\", \"r\") as file:\n",
    "        contents = file.read()\n",
    "        print(contents)\n",
    "        \n",
    "# Open the file in read mode\n",
    "with open(\"my_file.txt\", \"r\") as file:\n",
    "    line1 = file.readline()\n",
    "    line2 = file.readline()\n",
    "    print(line1)\n",
    "    print(line2)\n",
    "\n",
    "with open(\"file.txt\", \"r\") as file:\n",
    "    lines = file.readlines()\n",
    "    for line in lines:\n",
    "        print(line)\n",
    "\n"
   ]
  },
  {
   "cell_type": "markdown",
   "id": "ab44adb9",
   "metadata": {},
   "source": [
    "Q5. Explain why with statement is used with open(). What is the advantage of using with statement and\n",
    "open() together?\n",
    "ans=\n",
    "   The \"with\" statement is used in conjunction with the \"open\" function in Python as a way to ensure that file-related resources are properly managed. The main advantage of using the \"with\" statement with \"open\" is that it helps to eliminate the need for manual resource management, and helps to prevent resource leaks.\n",
    "\n",
    "When you open a file using the \"open\" function, you acquire a file object that represents the open file. When you are done using the file, it's important to close it in order to release any resources associated with the file. If you forget to close the file, you risk running out of resources, which can cause your program to crash or behave unexpectedly.\n",
    "\n",
    "The \"with\" statement provides a convenient way to automatically close the file when you are done with it, regardless of how you exit the block of code associated with the \"with\" statement. For example, if you raise an exception within the block, the file will still be automatically closed, even if the exception is not caught. This eliminates the need to manually close the file and helps to prevent resource leaks.\n",
    "\n",
    "Here's an example of how you can use the \"with\" statement with the \"open\" function to safely read the contents of a file:\n",
    "\n",
    "\n",
    "Copy code\n",
    "with open(\"file.txt\", \"r\") as f:\n",
    "    contents = f.read()\n",
    "In this example, the file is opened using the \"open\" function and assigned to a file object \"f\". \n",
    "The contents of the file are read using the read method of the file object, and the file is automatically closed when the block of code associated with the \"with\" statement is exited.\n"
   ]
  },
  {
   "cell_type": "markdown",
   "id": "a6d28af6",
   "metadata": {},
   "source": [
    "Q6. Explain the write() and writelines() functions. Give a suitable example.\n",
    "\n",
    "ans>>\n",
    "\n",
    "\n",
    "The with statement in Python is used in conjunction with the open() function to ensure proper handling of files. It provides a context manager that automatically takes care of resource management, such as opening and closing files, without the need for explicit open() and close() calls. Here are the advantages of using the with statement with open():\n",
    "\n",
    "Automatic Resource Management: The with statement ensures that the file is automatically closed after its associated block of code is executed. It guarantees that the file will be closed, even if an exception occurs within the block. This eliminates the need for explicit close() calls, reducing the risk of resource leaks.\n",
    "\n",
    "Cleaner and Concise Code: By using the with statement, the code becomes cleaner and more concise. The open() function and file handling operations are encapsulated within a single block, making the code more readable and maintaining the context of file handling.\n",
    "\n",
    "Error Handling: The with statement handles exceptions and errors gracefully. If an exception occurs within the with block, it will be caught, and the file will still be closed properly. This ensures that resources are released, preventing potential data corruption or loss.\n",
    "\n",
    "Improved Efficiency: The with statement ensures that files are closed as soon as they are no longer needed. This avoids keeping files open for longer durations, leading to improved memory utilization and performance."
   ]
  }
 ],
 "metadata": {
  "kernelspec": {
   "display_name": "Python 3 (ipykernel)",
   "language": "python",
   "name": "python3"
  },
  "language_info": {
   "codemirror_mode": {
    "name": "ipython",
    "version": 3
   },
   "file_extension": ".py",
   "mimetype": "text/x-python",
   "name": "python",
   "nbconvert_exporter": "python",
   "pygments_lexer": "ipython3",
   "version": "3.10.11"
  }
 },
 "nbformat": 4,
 "nbformat_minor": 5
}
